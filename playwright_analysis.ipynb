{
 "cells": [
  {
   "cell_type": "markdown",
   "metadata": {},
   "source": [
    "# Performance Analysis on CanDIGv2 Playwright API"
   ]
  },
  {
   "cell_type": "markdown",
   "metadata": {},
   "source": [
    "## Import packages"
   ]
  },
  {
   "cell_type": "code",
   "execution_count": null,
   "metadata": {},
   "outputs": [],
   "source": [
    "import pandas as pd\n",
    "import altair as alt\n",
    "import zipfile\n",
    "import os\n",
    "import shutil\n",
    "\n",
    "alt.data_transformers.enable(\"vegafusion\")"
   ]
  },
  {
   "cell_type": "markdown",
   "metadata": {},
   "source": [
    "# Set environment variables"
   ]
  },
  {
   "cell_type": "code",
   "execution_count": 6,
   "metadata": {},
   "outputs": [],
   "source": [
    "# modify this accordingly to your local environment\n",
    "path_to_playwright = '/path/to/folder/playwright-runbook'\n",
    "\n",
    "# Filter matching value\n",
    "filter_value = \"http://localhost:5080/\" # for tyk report"
   ]
  },
  {
   "cell_type": "markdown",
   "metadata": {},
   "source": [
    "## Copy html report from playwright to folder playwright-html"
   ]
  },
  {
   "cell_type": "code",
   "execution_count": 7,
   "metadata": {},
   "outputs": [],
   "source": [
    "def copy_file(src_file, dest_folder):\n",
    "    try:\n",
    "        if not os.path.exists(dest_folder):\n",
    "            os.makedirs(dest_folder)\n",
    "        shutil.copy(src_file, dest_folder)\n",
    "    except Exception as e:\n",
    "        print(f\"Error occurred: {e}\")\n",
    "\n",
    "src_file = f'{path_to_playwright}/playwright-report/index.html'\n",
    "dest_folder = os.path.join(os.getcwd(), \"playwright-html\")\n",
    "copy_file(src_file, dest_folder)"
   ]
  },
  {
   "cell_type": "markdown",
   "metadata": {},
   "source": [
    "## Unzip report.zip from playwright to playwright-data"
   ]
  },
  {
   "cell_type": "code",
   "execution_count": null,
   "metadata": {},
   "outputs": [],
   "source": [
    "def unzip_file(zip_file):\n",
    "    extract_to = os.path.join(os.getcwd(), \"playwright-data\")\n",
    "    os.makedirs(extract_to, exist_ok=True)\n",
    "\n",
    "    with zipfile.ZipFile(zip_file, \"r\") as zip_ref:\n",
    "        zip_ref.extractall(extract_to)\n",
    "\n",
    "zip_file_path = f'{path_to_playwright}/blob-report/report.zip'\n",
    "unzip_file(zip_file_path)"
   ]
  },
  {
   "cell_type": "markdown",
   "metadata": {},
   "source": [
    "## Load data into dataframe"
   ]
  },
  {
   "cell_type": "code",
   "execution_count": 9,
   "metadata": {},
   "outputs": [],
   "source": [
    "df_original = pd.read_json(\"./playwright-data/report.jsonl\", lines=True)\n",
    "# Skip the first 4 rows of metadata as not needed\n",
    "df_without_metadata = df_original.iloc[4:].reset_index(drop=True)\n",
    "# df_without_metadata.head()"
   ]
  },
  {
   "cell_type": "markdown",
   "metadata": {},
   "source": [
    "# Get metadata"
   ]
  },
  {
   "cell_type": "code",
   "execution_count": 10,
   "metadata": {},
   "outputs": [],
   "source": [
    "df_onEnd = df_original.loc[df_original[\"method\"] == \"onEnd\"]\n",
    "df_metadata = df_original.loc[df_original[\"method\"] == \"onProject\"]\n",
    "# df_metadata.head()"
   ]
  },
  {
   "cell_type": "markdown",
   "metadata": {},
   "source": [
    "# Get title with testID"
   ]
  },
  {
   "cell_type": "code",
   "execution_count": 11,
   "metadata": {},
   "outputs": [],
   "source": [
    "df_metadata_perf = pd.json_normalize(\n",
    "    df_metadata.iloc[1][\"params\"],\n",
    "    record_path=[\"project\", \"suites\", \"entries\"],\n",
    ")\n",
    "df_title_with_id = df_metadata_perf[[\"testId\", \"title\"]]\n",
    "# df_title_with_id.head()"
   ]
  },
  {
   "cell_type": "markdown",
   "metadata": {},
   "source": [
    "## Link duration for each test"
   ]
  },
  {
   "cell_type": "code",
   "execution_count": 12,
   "metadata": {},
   "outputs": [],
   "source": [
    "df_params = pd.json_normalize(df_without_metadata[\"params\"])\n",
    "\n",
    "# Filter rows where 'step.title' matches the value\n",
    "df_filtered_value = df_params[\n",
    "    df_params[\"step.title\"].str.contains(filter_value, na=False, regex=False)\n",
    "]\n",
    "df_start_time_with_id = df_filtered_value[[\"step.id\", \"step.startTime\", \"testId\"]]\n",
    "df_duration = df_params[df_params[\"step.duration\"].notnull()]\n",
    "\n",
    "# Merge\n",
    "df_start_time_with_id_and_duration = df_start_time_with_id.merge(\n",
    "    df_duration[[\"step.id\", \"step.duration\"]], on=\"step.id\", how=\"left\"\n",
    ")\n",
    "df_duration_with_id = df_start_time_with_id_and_duration[\n",
    "    [\"step.id\", \"step.duration\", \"testId\"]\n",
    "]\n",
    "# df_duration_with_id.head()"
   ]
  },
  {
   "cell_type": "markdown",
   "metadata": {},
   "source": [
    "## Link testId with title for a readable dataset"
   ]
  },
  {
   "cell_type": "code",
   "execution_count": 13,
   "metadata": {},
   "outputs": [],
   "source": [
    "df_duration_with_id = df_duration_with_id.merge(\n",
    "    df_title_with_id, on=\"testId\", how=\"left\", suffixes=(\"\", \"_y\")\n",
    ")\n",
    "\n",
    "df_duration_with_title = df_duration_with_id[[\"title\", \"step.duration\"]]\n",
    "df_duration_with_title = df_duration_with_title.rename(\n",
    "    columns={\"step.duration\": \"duration\"}\n",
    ")\n",
    "# df_duration_with_title.head()"
   ]
  },
  {
   "cell_type": "markdown",
   "metadata": {},
   "source": [
    "## Basic analysis"
   ]
  },
  {
   "cell_type": "code",
   "execution_count": null,
   "metadata": {},
   "outputs": [],
   "source": [
    "# Total time\n",
    "df_normalized = pd.json_normalize(df_onEnd['params'])\n",
    "total_time = df_normalized['result.duration'] / 1000\n",
    "print(f\"Total time: {total_time.iloc[0]:.2f} s\")\n",
    "\n",
    "# Define the custom percentiles function\n",
    "def get_p90(x):\n",
    "    return x.quantile(0.90)\n",
    "def get_p95(x):\n",
    "    return x.quantile(0.95)\n",
    "\n",
    "# Group by 'title' and calculate the desired statistics\n",
    "result = (\n",
    "    df_duration_with_title.groupby(\"title\")[\"duration\"]\n",
    "    .agg(min=\"min\", max=\"max\", median=\"median\", p90=get_p90, p95=get_p95, count=\"count\")\n",
    "    .reset_index()\n",
    ")\n",
    "result.sort_values(by=\"median\", ascending=True)"
   ]
  },
  {
   "cell_type": "markdown",
   "metadata": {},
   "source": [
    "## Boxplot"
   ]
  },
  {
   "cell_type": "code",
   "execution_count": null,
   "metadata": {},
   "outputs": [],
   "source": [
    "box_plot = (\n",
    "    alt.Chart(df_duration_with_title, title=\"API timings\")\n",
    "    .mark_boxplot(size=30)\n",
    "    .encode(\n",
    "        y=alt.Y(\"title:N\").title(\"Endpoints\"),\n",
    "        x=alt.X(\"duration:Q\").title(\"Duration (ms)\"),\n",
    "        color=alt.Color(\"title:N\").legend(None),\n",
    "        tooltip=[\"duration:Q\"],\n",
    "    )\n",
    "    .properties(width=800, height=400)\n",
    ")\n",
    "box_plot.show()"
   ]
  },
  {
   "cell_type": "markdown",
   "metadata": {},
   "source": [
    "# Histogram"
   ]
  },
  {
   "cell_type": "code",
   "execution_count": null,
   "metadata": {},
   "outputs": [],
   "source": [
    "histogram = (\n",
    "    alt.Chart(df_duration_with_title)\n",
    "    .mark_bar()\n",
    "    .encode(\n",
    "        alt.X(\"duration:Q\", bin=True, title=\"Duration (ms)\"),\n",
    "        alt.Y(\"count():Q\", title=\"Count\"),\n",
    "        alt.Color(\"title:N\", legend=None),\n",
    "        tooltip=[alt.Tooltip(\"count():Q\", title=\"Count\")],\n",
    "    )\n",
    "    .facet(\"title:N\", columns=3, title=\"API timings\")\n",
    "    .resolve_axis(x='independent')\n",
    ")\n",
    "\n",
    "histogram.show()"
   ]
  },
  {
   "cell_type": "markdown",
   "metadata": {},
   "source": [
    "# Timeline"
   ]
  },
  {
   "cell_type": "code",
   "execution_count": 17,
   "metadata": {},
   "outputs": [],
   "source": [
    "df_with_timestamp = df_start_time_with_id_and_duration.merge(df_title_with_id, on='testId', how='left', suffixes=('', '_y'))\n",
    "df_timeline = df_with_timestamp[['title','step.duration', 'step.startTime']]\n",
    "df_timeline = df_timeline.rename(columns={'step.duration': 'duration'})\n",
    "# df_duration_with_title_with_timestamp"
   ]
  },
  {
   "cell_type": "markdown",
   "metadata": {},
   "source": [
    "# Line chart"
   ]
  },
  {
   "cell_type": "code",
   "execution_count": null,
   "metadata": {},
   "outputs": [],
   "source": [
    "df_timeline['relativeTime'] = (df_timeline['step.startTime'] - df_timeline['step.startTime'].min())\n",
    "chart = alt.Chart(df_timeline).mark_line(point=True).encode(\n",
    "    x=alt.X('relativeTime:Q', title='Period'),\n",
    "    y=alt.Y('duration:Q', title='Response time (ms)'),\n",
    "    color='title:N',\n",
    "    tooltip=['title', 'duration', 'relativeTime']\n",
    ").properties(\n",
    "    title='Response time over period',\n",
    "    width=800,\n",
    "    height=500 \n",
    ")\n",
    "\n",
    "chart.display()"
   ]
  }
 ],
 "metadata": {
  "kernelspec": {
   "display_name": ".venv",
   "language": "python",
   "name": "python3"
  },
  "language_info": {
   "codemirror_mode": {
    "name": "ipython",
    "version": 3
   },
   "file_extension": ".py",
   "mimetype": "text/x-python",
   "name": "python",
   "nbconvert_exporter": "python",
   "pygments_lexer": "ipython3",
   "version": "3.12.1"
  }
 },
 "nbformat": 4,
 "nbformat_minor": 2
}
